{
 "cells": [
  {
   "cell_type": "code",
   "execution_count": 1,
   "metadata": {},
   "outputs": [],
   "source": [
    "import yaml\n",
    "import pandas as pd\n",
    "import geopandas as gpd\n",
    "import geohash2\n",
    "from shapely import geometry\n",
    "from pyproj import Transformer\n",
    "from polygeohasher import polygeohasher # https://www.geospatialworld.net/blogs/polygeohasher-an-optimized-way-to-create-geohashes/\n",
    "\n"
   ]
  },
  {
   "cell_type": "markdown",
   "metadata": {},
   "source": [
    "## Load Config"
   ]
  },
  {
   "cell_type": "code",
   "execution_count": 2,
   "metadata": {},
   "outputs": [],
   "source": [
    "with open('config.yaml') as f:\n",
    "    config = yaml.load(f, Loader=yaml.FullLoader)"
   ]
  },
  {
   "cell_type": "code",
   "execution_count": 3,
   "metadata": {},
   "outputs": [],
   "source": [
    "# Set Configs\n",
    "paths: dict() = config['paths']\n",
    "crs: dict() = config['crs']\n"
   ]
  },
  {
   "cell_type": "code",
   "execution_count": 4,
   "metadata": {},
   "outputs": [],
   "source": [
    "# Coord System Transformer\n",
    "transformer_gps_to_osmeters = Transformer.from_crs(crs['latlon_gps'], crs['proj_os32'])"
   ]
  },
  {
   "cell_type": "markdown",
   "metadata": {},
   "source": [
    "## Functions"
   ]
  },
  {
   "cell_type": "code",
   "execution_count": 5,
   "metadata": {},
   "outputs": [],
   "source": [
    "def geohash_to_polygon(ghash: str) -> geometry.Polygon:\n",
    "\n",
    "    lat_centroid, lng_centroid, lat_offset, lng_offset = geohash2.decode_exactly(ghash)\n",
    "\n",
    "    corner_1 = transformer_gps_to_osmeters.transform(lat_centroid - lat_offset, lng_centroid - lng_offset)\n",
    "    corner_2 = transformer_gps_to_osmeters.transform(lat_centroid + lat_offset, lng_centroid - lng_offset)\n",
    "    corner_3 = transformer_gps_to_osmeters.transform(lat_centroid + lat_offset, lng_centroid + lng_offset)\n",
    "    corner_4 = transformer_gps_to_osmeters.transform(lat_centroid - lat_offset, lng_centroid + lng_offset)\n",
    "\n",
    "    polygon = geometry.Polygon([corner_1, corner_2, corner_3, corner_4, corner_1])\n",
    "\n",
    "    return polygon"
   ]
  },
  {
   "cell_type": "markdown",
   "metadata": {},
   "source": [
    "## Main"
   ]
  },
  {
   "cell_type": "code",
   "execution_count": 6,
   "metadata": {},
   "outputs": [],
   "source": [
    "# Load Polygon to GeoDataFrame\n",
    "gdf_Polygon: gpd.GeoDataFrame = gpd.read_file(paths['area_polygon'], crs=crs['meters'])"
   ]
  },
  {
   "cell_type": "code",
   "execution_count": 7,
   "metadata": {},
   "outputs": [],
   "source": [
    "# Filter by Region\n",
    "gdf_Polygon = gdf_Polygon[gdf_Polygon['Region'] == config['region']]"
   ]
  },
  {
   "cell_type": "code",
   "execution_count": 8,
   "metadata": {},
   "outputs": [],
   "source": [
    "# Convert CRS to GPS\n",
    "gdf_Polygon_GPS = gdf_Polygon.to_crs(crs['latlon_gps'])"
   ]
  },
  {
   "cell_type": "code",
   "execution_count": 9,
   "metadata": {},
   "outputs": [],
   "source": [
    "# Melt to single polygon\n",
    "union_geom = gdf_Polygon_GPS['geometry'].unary_union"
   ]
  },
  {
   "cell_type": "code",
   "execution_count": 10,
   "metadata": {},
   "outputs": [],
   "source": [
    "# Create an interim Pandas dataframe\n",
    "df_Union = pd.DataFrame({'id':'0', 'geometry': union_geom}, index=[0])"
   ]
  },
  {
   "cell_type": "code",
   "execution_count": 11,
   "metadata": {},
   "outputs": [],
   "source": [
    "# Create GeoDataFrame with unionized polygon\n",
    "gdf_Union = gpd.GeoDataFrame(df_Union, crs=crs['latlon_gps'])"
   ]
  },
  {
   "cell_type": "code",
   "execution_count": 12,
   "metadata": {},
   "outputs": [],
   "source": [
    "# Get \n",
    "gdf_poly_hashed = polygeohasher.create_geohash_list(gdf=gdf_Union, geohash_level=config['geohash_precision'], inner=False)"
   ]
  },
  {
   "cell_type": "code",
   "execution_count": 13,
   "metadata": {},
   "outputs": [],
   "source": [
    "# Use Set to remove any duplicates\n",
    "hash_set = set(gdf_poly_hashed['geohash_list'].to_list()[0])"
   ]
  },
  {
   "cell_type": "code",
   "execution_count": 14,
   "metadata": {},
   "outputs": [],
   "source": [
    "# Create dictionary where Key = GeoHash, Value = Polygon shape\n",
    "hash_dict = [{'GeoHash': n, 'geometry': geohash_to_polygon(n)} for n in hash_set]"
   ]
  },
  {
   "cell_type": "code",
   "execution_count": 15,
   "metadata": {},
   "outputs": [],
   "source": [
    "# Create GeoDataFrame\n",
    "gdf_hash_dict = gpd.GeoDataFrame(data=hash_dict, crs=crs['meters'])"
   ]
  },
  {
   "cell_type": "code",
   "execution_count": 16,
   "metadata": {},
   "outputs": [],
   "source": [
    "# Set GeoHash as index\n",
    "gdf_hash_dict.set_index('GeoHash', inplace=True)"
   ]
  },
  {
   "cell_type": "code",
   "execution_count": 17,
   "metadata": {},
   "outputs": [],
   "source": [
    "# Export file\n",
    "gdf_hash_dict.to_feather(path=paths['save_as']+'.feather', index=True)"
   ]
  },
  {
   "cell_type": "code",
   "execution_count": 18,
   "metadata": {},
   "outputs": [
    {
     "name": "stdout",
     "output_type": "stream",
     "text": [
      "Completed\n"
     ]
    }
   ],
   "source": [
    "print('Completed')"
   ]
  }
 ],
 "metadata": {
  "kernelspec": {
   "display_name": "Python 3.10.4 ('ds')",
   "language": "python",
   "name": "python3"
  },
  "language_info": {
   "codemirror_mode": {
    "name": "ipython",
    "version": 3
   },
   "file_extension": ".py",
   "mimetype": "text/x-python",
   "name": "python",
   "nbconvert_exporter": "python",
   "pygments_lexer": "ipython3",
   "version": "3.10.5"
  },
  "orig_nbformat": 4,
  "vscode": {
   "interpreter": {
    "hash": "ca7f0ad1efe85100c67a8b7754aa3679f6ad1da7976aeda253f1d76c6b060788"
   }
  }
 },
 "nbformat": 4,
 "nbformat_minor": 2
}
